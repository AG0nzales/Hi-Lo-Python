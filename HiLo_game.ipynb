{
  "nbformat": 4,
  "nbformat_minor": 0,
  "metadata": {
    "colab": {
      "provenance": [],
      "authorship_tag": "ABX9TyM0JVvUiwhU2qJJiLNDAC8V"
    },
    "kernelspec": {
      "name": "python3",
      "display_name": "Python 3"
    },
    "language_info": {
      "name": "python"
    }
  },
  "cells": [
    {
      "cell_type": "markdown",
      "source": [
        "### Imports"
      ],
      "metadata": {
        "id": "TKbtuaeswhaS"
      }
    },
    {
      "cell_type": "code",
      "execution_count": 1,
      "metadata": {
        "id": "4P443fs_wbN7"
      },
      "outputs": [],
      "source": [
        "import random as r"
      ]
    },
    {
      "cell_type": "markdown",
      "source": [
        "### Function for Random card(1-13) generator"
      ],
      "metadata": {
        "id": "UYQ1dcq0wjg_"
      }
    },
    {
      "cell_type": "code",
      "source": [
        "def card():\n",
        "  random_card = r.randint(1,13)\n",
        "  return random_card"
      ],
      "metadata": {
        "id": "kIZvPyRgwb1x"
      },
      "execution_count": 2,
      "outputs": []
    },
    {
      "cell_type": "markdown",
      "source": [
        "### The logic of the game function"
      ],
      "metadata": {
        "id": "wk_rrUljwtLY"
      }
    },
    {
      "cell_type": "code",
      "source": [
        "def hilo():\n",
        "  print(\"Let's play Hi-Lo!\")\n",
        "  score = 300\n",
        "\n",
        "  while score > 0:\n",
        "    first_card = card()\n",
        "    print('\\n')\n",
        "    print(\"The card is: \", first_card)\n",
        "    ans = input(\"higher or lower? [h/l] \").lower()\n",
        "    next_card = card()\n",
        "    print(\"Next card was: \", next_card)\n",
        "\n",
        "    if ans == 'h' and next_card > first_card:\n",
        "      score += 100\n",
        "      print(\"Your score is: \", score)\n",
        "\n",
        "      if score > 0 and input('Play Again? [y/n] ').lower() == 'y':\n",
        "        continue;\n",
        "    \n",
        "      else:\n",
        "        print('\\n')\n",
        "        print(\"Play again next time!\")\n",
        "        break;\n",
        "\n",
        "    if ans == 'l' and next_card < first_card:\n",
        "      score += 100\n",
        "      print(\"Your score is: \", score)\n",
        "\n",
        "      if score > 0 and input('Play Again? [y/n] ').lower() == 'y':\n",
        "        continue;\n",
        "    \n",
        "      else:\n",
        "        print('\\n')\n",
        "        print(\"Play again next time!\")\n",
        "        break;\n",
        "\n",
        "    if ans == 'h' and next_card < first_card:\n",
        "      score -= 75\n",
        "      print(\"Your score is: \", score)\n",
        "\n",
        "      if score > 0 and input('Play Again? [y/n] ').lower() == 'y':\n",
        "        continue;\n",
        "    \n",
        "      else:\n",
        "        print('\\n')\n",
        "        print(\"Play again next time!\")\n",
        "        break;\n",
        "\n",
        "    if ans == 'l' and next_card > first_card:\n",
        "      score -= 75\n",
        "      print(\"Your score is: \", score)\n",
        "\n",
        "      if score > 0 and input('Play Again? [y/n] ').lower() == 'y':\n",
        "        continue;\n",
        "    \n",
        "      else:\n",
        "        print('\\n')\n",
        "        print(\"Play again next time!\")\n",
        "        break;"
      ],
      "metadata": {
        "id": "W-YWNIXfwdMq"
      },
      "execution_count": 3,
      "outputs": []
    },
    {
      "cell_type": "markdown",
      "source": [
        "## Main method"
      ],
      "metadata": {
        "id": "qO_jUpu2wzPh"
      }
    },
    {
      "cell_type": "code",
      "source": [
        "def main():\n",
        "  hilo()\n",
        "\n",
        "if __name__ == \"__main__\":\n",
        "    main()"
      ],
      "metadata": {
        "colab": {
          "base_uri": "https://localhost:8080/"
        },
        "id": "JBWJ6uPCwgBA",
        "outputId": "9ab12f96-ab79-4e5f-9ef9-dde80fb731d2"
      },
      "execution_count": 4,
      "outputs": [
        {
          "output_type": "stream",
          "name": "stdout",
          "text": [
            "Let's play Hi-Lo!\n",
            "\n",
            "\n",
            "The card is:  3\n",
            "higher or lower? [h/l] l\n",
            "Next card was:  10\n",
            "Your score is:  225\n",
            "Play Again? [y/n] y\n",
            "\n",
            "\n",
            "The card is:  1\n",
            "higher or lower? [h/l] l\n",
            "Next card was:  7\n",
            "Your score is:  150\n",
            "Play Again? [y/n] y\n",
            "\n",
            "\n",
            "The card is:  10\n",
            "higher or lower? [h/l] h\n",
            "Next card was:  9\n",
            "Your score is:  75\n",
            "Play Again? [y/n] y\n",
            "\n",
            "\n",
            "The card is:  4\n",
            "higher or lower? [h/l] l\n",
            "Next card was:  11\n",
            "Your score is:  0\n",
            "\n",
            "\n",
            "Play again next time!\n"
          ]
        }
      ]
    }
  ]
}